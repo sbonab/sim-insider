{
 "cells": [
  {
   "cell_type": "code",
   "execution_count": 1,
   "metadata": {},
   "outputs": [],
   "source": [
    "import numpy as np\n",
    "import fmpy\n",
    "from fmpy import read_model_description, extract\n",
    "from fmpy.fmi2 import FMU2Slave\n",
    "from fmpy.util import plot_result, download_test_file\n",
    "import shutil\n",
    "import time as TIME\n",
    "import keyboard"
   ]
  },
  {
   "cell_type": "code",
   "execution_count": 2,
   "metadata": {},
   "outputs": [
    {
     "name": "stdout",
     "output_type": "stream",
     "text": [
      "\n",
      "Model Info\n",
      "\n",
      "  FMI Version       2.0\n",
      "  FMI Type          Co-Simulation\n",
      "  Model Name        Vehicle\n",
      "  Description       Model Vehicle\n",
      "  Platforms         c-code, win64\n",
      "  Continuous States 42\n",
      "  Event Indicators  8\n",
      "  Variables         109\n",
      "  Generation Tool   MapleSim 2020.2 (1502365/1502365/1502365)\n",
      "  Generation Date   2020-12-04T22:06:37Z\n",
      "\n",
      "Default Experiment\n",
      "\n",
      "  Stop Time         20\n",
      "  Tolerance         1e-06\n",
      "  Step Size         0.001\n",
      "\n",
      "Variables (input, output)\n",
      "\n",
      "Name                Causality              Start Value  Unit     Description\n",
      "accelCMD            input      1.00000000000000000e+00           accelCMD\n",
      "steerCMD            input      1.00000000000000000e+00           steerCMD\n",
      "omega               output                                       omega\n",
      "steer               output                                       steer\n",
      "Pitch               output                                       Pitch\n",
      "Roll                output                                       Roll\n",
      "Yaw                 output                                       Yaw\n",
      "latVel              output                                       latVel\n",
      "longVel             output                                       longVel\n"
     ]
    }
   ],
   "source": [
    "fmu_filename = 'Vehicle.fmu'\n",
    "fmpy.dump(fmu_filename)"
   ]
  },
  {
   "cell_type": "code",
   "execution_count": 22,
   "metadata": {},
   "outputs": [],
   "source": [
    "def simulate_custom_input(show_plot=True):\n",
    "    # define the model name and simulation parameters\n",
    "    start_time = 0.0\n",
    "    step_size = 0.001\n",
    "    stop_time = 20  \n",
    "    \n",
    "    # read the model description\n",
    "    model_description = read_model_description(fmu_filename)\n",
    "    \n",
    "    # collect the value references\n",
    "    vrs = {}\n",
    "    for variable in model_description.modelVariables:\n",
    "        vrs[variable.name] = variable.valueReference       \n",
    "    \n",
    "    # get the value references for the variables we want to get/set\n",
    "    accel = vrs['accelCMD'] # Steering and Acceleration Commands\n",
    "    steer = vrs['steerCMD']\n",
    "    \n",
    "    # extract the FMU\n",
    "    unzipdir = extract(fmu_filename)\n",
    "    \n",
    "    fmu = FMU2Slave(guid=model_description.guid,\n",
    "                    unzipDirectory=unzipdir,\n",
    "                    modelIdentifier=model_description.coSimulation.modelIdentifier,\n",
    "                    instanceName='instance1')\n",
    "    \n",
    "    # initialize\n",
    "    fmu.instantiate()\n",
    "    fmu.setupExperiment(startTime=start_time)\n",
    "    fmu.enterInitializationMode()\n",
    "    fmu.exitInitializationMode()\n",
    "    \n",
    "    time = start_time\n",
    "    \n",
    "    rows = []  # list to record the results\n",
    "\n",
    "    # simulation loop\n",
    "    while time < stop_time:\n",
    "\n",
    "        # NOTE: the FMU.get*() and FMU.set*() functions take lists of\n",
    "        # value references as arguments and return lists of values\n",
    "\n",
    "        # set the inputs                \n",
    "        if keyboard.is_pressed('5'):\n",
    "            fmu.setReal([accel], [1.0])\n",
    "        elif keyboard.is_pressed('2'):\n",
    "            fmu.setReal([accel], [-1.0])\n",
    "        else:\n",
    "            fmu.setReal([accel], [0.0])\n",
    "        \n",
    "        #fmu.setReal([steer], [0.0])\n",
    "        if keyboard.is_pressed('1'):\n",
    "            fmu.setReal([steer], [1.0])\n",
    "        elif keyboard.is_pressed('3'):\n",
    "            fmu.setReal([steer], [-1.0])\n",
    "        else:\n",
    "            fmu.setReal([steer], [0.0])\n",
    "        \n",
    "        # Aborting with Escape\n",
    "        if keyboard.is_pressed('Escape'):\n",
    "            break\n",
    "        \n",
    "        # Timing the step\n",
    "        start = TIME.time()\n",
    "        # perform one step\n",
    "        fmu.doStep(currentCommunicationPoint=time, communicationStepSize=step_size)\n",
    "        \n",
    "        end = TIME.time()\n",
    "        \n",
    "        # get the values for 'inputs' and 'outputs[4]'\n",
    "        #inputs, outputs = fmu.getReal([vr_inputs, vr_outputs])\n",
    "\n",
    "        # append the results\n",
    "        #rows.append((time, inputs, outputs))\n",
    "\n",
    "        # advance the time and sync\n",
    "        time += step_size\n",
    "        if end - start < step_size:\n",
    "            TIME.sleep(step_size - (end - start))\n",
    "\n",
    "    fmu.terminate()\n",
    "    fmu.freeInstance()\n",
    "\n",
    "    # clean up\n",
    "    shutil.rmtree(unzipdir, ignore_errors=True)\n",
    "\n",
    "    # convert the results to a structured NumPy array\n",
    "    #result = np.array(rows, dtype=np.dtype([('time', np.float64), ('inputs', np.float64), ('outputs', np.float64)]))\n",
    "\n",
    "    # plot the results\n",
    "    #if show_plot:\n",
    "    #   plot_result(result)\n",
    "\n",
    "    return time\n",
    "\n",
    "# Based on the following web page\n",
    "# https://github.com/CATIA-Systems/FMPy/blob/feature/clocks-and-hybrid-cs/fmpy/examples/custom_input.py"
   ]
  },
  {
   "cell_type": "code",
   "execution_count": 25,
   "metadata": {},
   "outputs": [
    {
     "data": {
      "text/plain": [
       "20.00000000000146"
      ]
     },
     "execution_count": 25,
     "metadata": {},
     "output_type": "execute_result"
    }
   ],
   "source": [
    "simulate_custom_input()"
   ]
  },
  {
   "cell_type": "code",
   "execution_count": null,
   "metadata": {},
   "outputs": [],
   "source": []
  }
 ],
 "metadata": {
  "kernelspec": {
   "display_name": "Python 3",
   "language": "python",
   "name": "python3"
  },
  "language_info": {
   "codemirror_mode": {
    "name": "ipython",
    "version": 3
   },
   "file_extension": ".py",
   "mimetype": "text/x-python",
   "name": "python",
   "nbconvert_exporter": "python",
   "pygments_lexer": "ipython3",
   "version": "3.9.0"
  }
 },
 "nbformat": 4,
 "nbformat_minor": 4
}
